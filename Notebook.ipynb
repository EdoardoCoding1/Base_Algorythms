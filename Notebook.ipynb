{
 "cells": [
  {
   "cell_type": "code",
   "execution_count": 6,
   "id": "6697ad9d",
   "metadata": {},
   "outputs": [
    {
     "data": {
      "text/plain": [
       "array(['Board_Game', 'Horror'], dtype=object)"
      ]
     },
     "execution_count": 6,
     "metadata": {},
     "output_type": "execute_result"
    }
   ],
   "source": [
    "import pandas as p",
    "from sklearn.tree import DecisionTreeClassifier",
    "from sklearn import tree",
    "from sklearn.model_selection import train_test_split",
    "\n",
    "dataset = p.read_csv('dataset.csv')\n",
    "X = dataset.drop(columns=['genre'])\n",
    "Y = dataset['genre']\n",
    "\n",
    "Xtr, Xout, Ytr, Yout = train_test_split(X,Y, test_size=0.1)\n",
    "\n",
    "model = DecisionTreeClassifier()\n",
    "model.fit(Xtr,Ytr)\n",
    "prediction = model.predict(Xout)\n",
    "\n",
    "tree.export_graphviz(model, out_file=\"algorithm.dot\", feature_names=['age', 'gender'], class_names=sorted(Y.unique()), label='all',rounded=True,filled=True)\n",
    "prediction"
   ]
  },
  {
   "cell_type": "code",
   "execution_count": null,
   "id": "c5e10255",
   "metadata": {},
   "outputs": [],
   "source": []
  }
 ],
 "metadata": {
  "kernelspec": {
   "display_name": "Python 3 (ipykernel)",
   "language": "python",
   "name": "python3"
  },
  "language_info": {
   "codemirror_mode": {
    "name": "ipython",
    "version": 3
   },
   "file_extension": ".py",
   "mimetype": "text/x-python",
   "name": "python",
   "nbconvert_exporter": "python",
   "pygments_lexer": "ipython3",
   "version": "3.10.9"
  }
 },
 "nbformat": 4,
 "nbformat_minor": 5
}
